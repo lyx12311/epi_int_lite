{
 "cells": [
  {
   "cell_type": "code",
   "execution_count": 1,
   "metadata": {},
   "outputs": [],
   "source": [
    "#viscosity.ipynb\n",
    "#by Joe Hahn, jmh.datasciences@gmail.com, 15 April 2018.\n",
    "#plot evolution of viscous ringlet"
   ]
  },
  {
   "cell_type": "code",
   "execution_count": 2,
   "metadata": {},
   "outputs": [
    {
     "ename": "NameError",
     "evalue": "name 'execfile' is not defined",
     "output_type": "error",
     "traceback": [
      "\u001b[0;31m---------------------------------------------------------------------------\u001b[0m",
      "\u001b[0;31mNameError\u001b[0m                                 Traceback (most recent call last)",
      "\u001b[0;32m<ipython-input-2-d7b13321ca4d>\u001b[0m in \u001b[0;36m<module>\u001b[0;34m\u001b[0m\n\u001b[1;32m      1\u001b[0m \u001b[0;31m#restore output\u001b[0m\u001b[0;34m\u001b[0m\u001b[0;34m\u001b[0m\u001b[0m\n\u001b[1;32m      2\u001b[0m \u001b[0;32mfrom\u001b[0m \u001b[0mhelper_fns\u001b[0m \u001b[0;32mimport\u001b[0m \u001b[0;34m*\u001b[0m\u001b[0;34m\u001b[0m\u001b[0m\n\u001b[0;32m----> 3\u001b[0;31m \u001b[0mexecfile\u001b[0m\u001b[0;34m(\u001b[0m\u001b[0;34m'inputs.py'\u001b[0m\u001b[0;34m)\u001b[0m\u001b[0;34m\u001b[0m\u001b[0m\n\u001b[0m\u001b[1;32m      4\u001b[0m \u001b[0mr\u001b[0m\u001b[0;34m,\u001b[0m \u001b[0mt\u001b[0m\u001b[0;34m,\u001b[0m \u001b[0mvr\u001b[0m\u001b[0;34m,\u001b[0m \u001b[0mvt\u001b[0m\u001b[0;34m,\u001b[0m \u001b[0mtimes\u001b[0m\u001b[0;34m,\u001b[0m \u001b[0mlambda0\u001b[0m \u001b[0;34m=\u001b[0m \u001b[0mrestore_output\u001b[0m\u001b[0;34m(\u001b[0m\u001b[0moutput_folder\u001b[0m\u001b[0;34m)\u001b[0m\u001b[0;34m\u001b[0m\u001b[0m\n\u001b[1;32m      5\u001b[0m \u001b[0ma\u001b[0m\u001b[0;34m,\u001b[0m \u001b[0me\u001b[0m\u001b[0;34m,\u001b[0m \u001b[0mwt\u001b[0m\u001b[0;34m,\u001b[0m \u001b[0mM\u001b[0m \u001b[0;34m=\u001b[0m \u001b[0mcoords2elem\u001b[0m\u001b[0;34m(\u001b[0m\u001b[0mJ2\u001b[0m\u001b[0;34m,\u001b[0m \u001b[0mRp\u001b[0m\u001b[0;34m,\u001b[0m \u001b[0mr\u001b[0m\u001b[0;34m,\u001b[0m \u001b[0mt\u001b[0m\u001b[0;34m,\u001b[0m \u001b[0mvr\u001b[0m\u001b[0;34m,\u001b[0m \u001b[0mvt\u001b[0m\u001b[0;34m)\u001b[0m\u001b[0;34m\u001b[0m\u001b[0m\n",
      "\u001b[0;31mNameError\u001b[0m: name 'execfile' is not defined"
     ]
    }
   ],
   "source": [
    "#restore output\n",
    "from helper_fns import *\n",
    "exec(open('inputs.py').read())\n",
    "r, t, vr, vt, times, lambda0 = restore_output(output_folder)\n",
    "a, e, wt, M = coords2elem(J2, Rp, r, t, vr, vt)\n",
    "print('r.shape = ', r.shape)\n",
    "print('total_ring_mass = ', total_ring_mass)\n",
    "print('shear_viscosity = ', shear_viscosity)\n",
    "print('initial_orbits = ', initial_orbits)\n",
    "print('e.min() = ', e.min())\n",
    "print('e.max() = ', e.max())"
   ]
  },
  {
   "cell_type": "code",
   "execution_count": null,
   "metadata": {},
   "outputs": [],
   "source": [
    "#calculate da, de, dwt etc at inner & outer streamline's periapse\n",
    "from libration import *\n",
    "a_inner, a_outer, a_avg, delta_a, e_inner, e_outer, e_avg, delta_e, delta_e_avg, \\\n",
    "    e_prime, e_prime_avg, delta_wt, delta_wt_avg, wt_prime, wt_prime_avg, q, Hq = \\\n",
    "    calculate_Deltas(r, a, e, wt)"
   ]
  },
  {
   "cell_type": "code",
   "execution_count": null,
   "metadata": {},
   "outputs": [],
   "source": [
    "#prep plots\n",
    "%matplotlib inline\n",
    "import seaborn as sns\n",
    "import matplotlib.pyplot as plt\n",
    "from matplotlib import rcParams\n",
    "sns.set(font_scale=1.5, font='DejaVu Sans')\n",
    "import numpy as np"
   ]
  },
  {
   "cell_type": "code",
   "execution_count": null,
   "metadata": {
    "scrolled": false
   },
   "outputs": [],
   "source": [
    "#plot streamline's mutual a-evolution\n",
    "twopi = 2*np.pi\n",
    "f, ax = plt.subplots(figsize=(10, 6))\n",
    "x = times/(2*np.pi)/1.0e5\n",
    "y = a_inner - a_avg\n",
    "p = ax.plot(x, y, linestyle='-', linewidth=1, alpha=1, label='outer')\n",
    "y = a_avg - a_avg\n",
    "p = ax.plot(x, y, linestyle='-', linewidth=1, alpha=1, label='middle')\n",
    "y = a_outer - a_avg\n",
    "p = ax.plot(x, y, linestyle='-', linewidth=1, alpha=1, label='inner')\n",
    "p = ax.set_xlabel(r'time t    ($10^5$ orbits)')\n",
    "p = ax.set_ylabel('a - a$_{avg}$')\n",
    "p = plt.legend(loc='center right')"
   ]
  },
  {
   "cell_type": "code",
   "execution_count": null,
   "metadata": {},
   "outputs": [],
   "source": [
    "#plot delta_a versus time\n",
    "x = times/(2*np.pi)/1.0e5\n",
    "y = delta_a\n",
    "f, ax = plt.subplots(figsize=(10, 6))\n",
    "p = ax.plot(x, y, linestyle='-', linewidth=2)\n",
    "p = ax.set_title(r'$\\Delta a$ versus time')\n",
    "p = ax.set_xlabel(r'time t    ($10^5$ orbits)')\n",
    "p = ax.set_ylabel(r'$\\Delta a$')\n",
    "p = plt.legend()\n",
    "p = plt.savefig('figs/da.png')"
   ]
  },
  {
   "cell_type": "code",
   "execution_count": null,
   "metadata": {},
   "outputs": [],
   "source": [
    "#plot streamline's e-evolution\n",
    "twopi = 2*np.pi\n",
    "f, ax = plt.subplots(figsize=(10, 6))\n",
    "x = times/(2*np.pi)/1.0e5\n",
    "y = e_outer\n",
    "p = ax.plot(x, y, linestyle='-', linewidth=2, alpha=0.8, label='outer')\n",
    "y = e_avg\n",
    "p = ax.plot(x, y, linestyle='-', linewidth=2, alpha=0.8, label='avg e')\n",
    "y = e_inner\n",
    "p = ax.plot(x, y, linestyle='-', linewidth=2, alpha=0.8, label='inner')\n",
    "p = ax.set_xlabel(r'time t    ($10^5$ orbits)')\n",
    "p = ax.set_ylabel('eccentricity e')\n",
    "p = plt.legend()"
   ]
  },
  {
   "cell_type": "code",
   "execution_count": null,
   "metadata": {},
   "outputs": [],
   "source": [
    "#plot delta_e versus time\n",
    "f, ax = plt.subplots(figsize=(10, 6))\n",
    "x = times/(2*np.pi)/1.0e5\n",
    "y = delta_e\n",
    "p = ax.plot(x, y, linestyle='-', label=r'$\\Delta e$')\n",
    "y = y*0 + delta_e_avg\n",
    "p = ax.plot(x, y, linestyle='dashed', label=r'avg $\\Delta e$')\n",
    "p = ax.set_title(r'$\\Delta e$ versus time')\n",
    "p = ax.set_xlabel(r'time t    ($10^5$ orbits)')\n",
    "p = ax.set_ylabel(r'$\\Delta e$')\n",
    "p = plt.legend()"
   ]
  },
  {
   "cell_type": "code",
   "execution_count": null,
   "metadata": {},
   "outputs": [],
   "source": [
    "#plot delta_wt versus time\n",
    "x = times/(2*np.pi)/1.0e5\n",
    "y = delta_wt\n",
    "f, ax = plt.subplots(figsize=(10, 6))\n",
    "p = ax.plot(x, y, linestyle='-', label=r'$\\Delta\\tilde{\\omega}$')\n",
    "y = y*0 + delta_wt_avg\n",
    "p = ax.plot(x, y, linestyle='dashed', label=r'avg $\\Delta\\tilde{\\omega}$')\n",
    "p = ax.set_title(r'$\\Delta\\tilde{\\omega}$ versus time')\n",
    "p = ax.set_xlabel(r'time t    ($10^5$ orbits)')\n",
    "p = ax.set_ylabel(r'$\\Delta\\tilde{\\omega}$    (rad)')\n",
    "p = plt.legend()"
   ]
  },
  {
   "cell_type": "code",
   "execution_count": null,
   "metadata": {},
   "outputs": [],
   "source": [
    "#plot x=delta_e_prime, y=wt_prime over time\n",
    "f, ax = plt.subplots(figsize=(8, 8))\n",
    "x = e_prime\n",
    "y = wt_prime\n",
    "idx = (times > times.max()/8)\n",
    "x = x[idx]\n",
    "y = y[idx]\n",
    "p = ax.plot(x, y, marker='o', linestyle='-', label='level curve')\n",
    "p = ax.set_title('level curves')\n",
    "p = ax.set_xlabel(r\"$e'$\")\n",
    "p = ax.set_ylabel(r\"$\\Delta\\tilde{\\omega}$'\")\n",
    "p = plt.legend(loc='upper right')\n",
    "print \"stationary e' = \", e_prime_avg[0]\n",
    "print \"stationary wt' = \", wt_prime_avg[0]"
   ]
  },
  {
   "cell_type": "code",
   "execution_count": null,
   "metadata": {},
   "outputs": [],
   "source": [
    "#plot Hq versus time\n",
    "x = times/(2*np.pi)/1.0e5\n",
    "y = Hq\n",
    "f, ax = plt.subplots(figsize=(10, 6))\n",
    "p = ax.plot(x, y, linestyle='-', label='H')\n",
    "y = x*0 + (Hq.max() + Hq.min())/2\n",
    "p = ax.plot(x, y, linestyle='dashed', label='avg H')\n",
    "p = ax.set_title(r'$H(q)$ versus time')\n",
    "p = ax.set_xlabel(r'time t    ($10^5$ orbits)')\n",
    "p = ax.set_ylabel(r'$H(q)$')\n",
    "p = plt.legend()"
   ]
  },
  {
   "cell_type": "code",
   "execution_count": null,
   "metadata": {},
   "outputs": [],
   "source": [
    "#plot e_prime wt_prime and q versus time\n",
    "x = times/(2*np.pi)/1.0e5\n",
    "y = e_prime\n",
    "f, ax = plt.subplots(figsize=(10, 6))\n",
    "p = ax.plot(x, y, linestyle='dashed', linewidth=2, label=\"e'\")\n",
    "y = wt_prime\n",
    "p = ax.plot(x, y, linestyle='-', linewidth=2, label=r\"$\\omega'$\")\n",
    "y = q\n",
    "p = ax.plot(x, y, linestyle='-', linewidth=4, label=r'$q$', alpha=0.5)\n",
    "y = x*0 + np.sqrt(3.0)/2.0\n",
    "p = ax.plot(x, y, linestyle='dotted', linewidth=2, label=r\"$\\sqrt{3}/2$\")\n",
    "p = ax.set_title(r\"$e'=a(de/da)$ versus time\")\n",
    "p = ax.set_xlabel(r'time t    ($10^5$ orbits)')\n",
    "p = ax.set_ylabel(r\"$e'$\")\n",
    "p = ax.set_ylim(-0.3, 1)\n",
    "p = plt.legend()\n",
    "p = plt.savefig('figs/adeda.png')"
   ]
  },
  {
   "cell_type": "code",
   "execution_count": null,
   "metadata": {},
   "outputs": [],
   "source": []
  }
 ],
 "metadata": {
  "kernelspec": {
   "display_name": "Python 3",
   "language": "python",
   "name": "python3"
  },
  "language_info": {
   "codemirror_mode": {
    "name": "ipython",
    "version": 3
   },
   "file_extension": ".py",
   "mimetype": "text/x-python",
   "name": "python",
   "nbconvert_exporter": "python",
   "pygments_lexer": "ipython3",
   "version": "3.7.0"
  }
 },
 "nbformat": 4,
 "nbformat_minor": 2
}
